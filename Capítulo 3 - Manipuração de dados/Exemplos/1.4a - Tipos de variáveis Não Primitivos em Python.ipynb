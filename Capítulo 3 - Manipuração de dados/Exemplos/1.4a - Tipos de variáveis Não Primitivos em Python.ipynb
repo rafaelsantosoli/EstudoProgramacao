{
 "cells": [
  {
   "cell_type": "markdown",
   "metadata": {},
   "source": [
    "# Declarando variáveis de tipos lista, tupla, dicionário e conjunto"
   ]
  },
  {
   "cell_type": "code",
   "execution_count": 22,
   "metadata": {},
   "outputs": [],
   "source": [
    "a = [1, 2, 3] # lista\n",
    "b = [\"a\", \"b\", \"c\"] # lista\n",
    "c = (\"a\", \"b\", \"c\") # tupla\n",
    "d = {\"nome\": \"João\", \"idade\": 30} # dicionário\n",
    "e = {1, 2, 3, 4, 5} # conjunto"
   ]
  },
  {
   "cell_type": "markdown",
   "metadata": {},
   "source": [
    "# Usando os tipos de dados em operações"
   ]
  },
  {
   "cell_type": "code",
   "execution_count": 26,
   "metadata": {},
   "outputs": [
    {
     "name": "stdout",
     "output_type": "stream",
     "text": [
      "[1, 2, 3, 'a', 'b', 'c']\n",
      "1\n",
      "João\n",
      "{1, 4, 5}\n"
     ]
    }
   ],
   "source": [
    "# soma de listas\n",
    "print(a + b)\n",
    "\n",
    "# imprime o primeiro elemento da lista\n",
    "print(a[0])\n",
    "# Output: 1\n",
    "\n",
    "# Imprime o valor da chave \"nome\" do dicionário\n",
    "print(d[\"nome\"])\n",
    "# Output: João\n",
    "\n",
    "# Imprime o valor do conjunto e sem o elemento 2 e 3\n",
    "print(e - {2, 3})\n",
    "# Output: {1, 4, 5}\n"
   ]
  },
  {
   "cell_type": "markdown",
   "metadata": {},
   "source": [
    "# Testes com referências de memória"
   ]
  },
  {
   "cell_type": "code",
   "execution_count": 39,
   "metadata": {},
   "outputs": [
    {
     "name": "stdout",
     "output_type": "stream",
     "text": [
      "[1, 2, 3]\n",
      "[1, 2, 3]\n",
      "[1, 2, 3, 4]\n",
      "[1, 2, 3, 4]\n",
      "[1, 2, 3, 4, 5]\n",
      "[1, 2, 3, 4, 5]\n",
      "[1, 2, 3, 4]\n",
      "[1, 2, 3, 4]\n"
     ]
    }
   ],
   "source": [
    "a = [1, 2, 3] # lista\n",
    "f = a\n",
    "\n",
    "print(a)\n",
    "print(f)\n",
    "\n",
    "a.append(4)\n",
    "print(a)\n",
    "print(f)\n",
    "\n",
    "f.append(5)\n",
    "print(a)\n",
    "print(f)\n",
    "\n",
    "a.pop()\n",
    "print(a)\n",
    "print(f)\n",
    "\n"
   ]
  }
 ],
 "metadata": {
  "kernelspec": {
   "display_name": "Python 3",
   "language": "python",
   "name": "python3"
  },
  "language_info": {
   "codemirror_mode": {
    "name": "ipython",
    "version": 3
   },
   "file_extension": ".py",
   "mimetype": "text/x-python",
   "name": "python",
   "nbconvert_exporter": "python",
   "pygments_lexer": "ipython3",
   "version": "3.11.5"
  },
  "orig_nbformat": 4
 },
 "nbformat": 4,
 "nbformat_minor": 2
}
