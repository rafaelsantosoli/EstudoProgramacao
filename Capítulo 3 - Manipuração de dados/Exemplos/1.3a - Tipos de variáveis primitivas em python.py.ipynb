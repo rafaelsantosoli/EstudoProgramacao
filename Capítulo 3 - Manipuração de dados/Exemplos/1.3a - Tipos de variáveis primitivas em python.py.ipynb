{
 "cells": [
  {
   "cell_type": "markdown",
   "metadata": {},
   "source": [
    "# Declarando variáveis de tipos inteiro, ponto flutuante, booleano e string"
   ]
  },
  {
   "cell_type": "code",
   "execution_count": 1,
   "metadata": {},
   "outputs": [],
   "source": [
    "# Declarando variáveis de tipos inteiro, ponto flutuante, booleano e string\n",
    "\n",
    "a = 10\n",
    "b = 2.5\n",
    "c = True\n",
    "d = \"Olá, mundo!\"\n",
    "# Declarando variáveis de tipos inteiro, ponto flutuante, booleano e string"
   ]
  },
  {
   "cell_type": "markdown",
   "metadata": {},
   "source": [
    "# Usando os tipos de dados primitivos em operações matemáticas"
   ]
  },
  {
   "cell_type": "code",
   "execution_count": 2,
   "metadata": {},
   "outputs": [
    {
     "name": "stdout",
     "output_type": "stream",
     "text": [
      "12.5\n",
      "25.0\n",
      "4.0\n",
      "0.0\n"
     ]
    }
   ],
   "source": [
    "print(a + b)\n",
    "# Output: 12.5\n",
    "\n",
    "print(a * b)\n",
    "# Output: 25.0\n",
    "\n",
    "print(a // b)\n",
    "# Output: 4\n",
    "\n",
    "print(a % b)\n",
    "# Output: 0"
   ]
  },
  {
   "cell_type": "markdown",
   "metadata": {},
   "source": [
    "# Usando os tipos de dados primitivos em testes condicionais"
   ]
  },
  {
   "cell_type": "code",
   "execution_count": 4,
   "metadata": {},
   "outputs": [
    {
     "name": "stdout",
     "output_type": "stream",
     "text": [
      "O valor de c é verdadeiro.\n"
     ]
    }
   ],
   "source": [
    "if c:\n",
    "  print(\"O valor de c é verdadeiro.\")\n",
    "else:\n",
    "  print(\"O valor de c é falso.\")"
   ]
  },
  {
   "cell_type": "markdown",
   "metadata": {},
   "source": [
    "# Usando os tipos de dados primitivos em strings"
   ]
  },
  {
   "cell_type": "code",
   "execution_count": 3,
   "metadata": {},
   "outputs": [
    {
     "name": "stdout",
     "output_type": "stream",
     "text": [
      "Olá, mundo!\n",
      "OLÁ, MUNDO!\n",
      "olá, mundo!\n"
     ]
    }
   ],
   "source": [
    "print(d)\n",
    "# Output: Olá, mundo!\n",
    "\n",
    "print(d.upper())\n",
    "# Output: Olá, MUNDO!\n",
    "\n",
    "print(d.lower())\n",
    "# Output: olá, mundo!"
   ]
  },
  {
   "cell_type": "markdown",
   "metadata": {},
   "source": [
    "# Usando os tipos de dados que se utilizam de referências"
   ]
  },
  {
   "cell_type": "code",
   "execution_count": 13,
   "metadata": {},
   "outputs": [
    {
     "name": "stdout",
     "output_type": "stream",
     "text": [
      "Valor de a:  10\n",
      "Valor de e:  0\n",
      "Atribuindo o valor de a para e:  10\n",
      "Alterando o valor de a para 20, Valor de a:  20\n",
      "Valor de e:  10\n"
     ]
    }
   ],
   "source": [
    "a = 10\n",
    "e = 0\n",
    "\n",
    "print(\"Valor de a: \", a)\n",
    "# Output: 10\n",
    "\n",
    "print(\"Valor de e: \", e)\n",
    "# Output: 0\n",
    "\n",
    "e = a # Atribuindo o valor de a para e\n",
    "print(\"Atribuindo o valor de a para e: \", e)\n",
    "# Output: 10\n",
    "\n",
    "a = 20 # Alterando o valor de a\n",
    "print(\"Alterando o valor de a para 20, Valor de a: \", a)\n",
    "# Output: 20\n",
    "\n",
    "# O valor de e não foi alterado pois a atribuição foi feita antes da alteração de a\n",
    "print(\"Valor de e: \", e )\n",
    "# Output: 10"
   ]
  }
 ],
 "metadata": {
  "kernelspec": {
   "display_name": "Python 3",
   "language": "python",
   "name": "python3"
  },
  "language_info": {
   "codemirror_mode": {
    "name": "ipython",
    "version": 3
   },
   "file_extension": ".py",
   "mimetype": "text/x-python",
   "name": "python",
   "nbconvert_exporter": "python",
   "pygments_lexer": "ipython3",
   "version": "3.11.5"
  },
  "orig_nbformat": 4
 },
 "nbformat": 4,
 "nbformat_minor": 2
}
