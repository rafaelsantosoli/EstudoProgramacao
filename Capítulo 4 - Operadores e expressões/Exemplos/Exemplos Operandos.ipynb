{
 "cells": [
  {
   "cell_type": "markdown",
   "metadata": {},
   "source": [
    "## Operadores Unários"
   ]
  },
  {
   "cell_type": "code",
   "execution_count": 2,
   "metadata": {},
   "outputs": [
    {
     "name": "stdout",
     "output_type": "stream",
     "text": [
      "-10\n"
     ]
    }
   ],
   "source": [
    "a = -10\n",
    "\n",
    "print(a)"
   ]
  },
  {
   "cell_type": "markdown",
   "metadata": {},
   "source": [
    "## Operadores Binários"
   ]
  },
  {
   "cell_type": "code",
   "execution_count": 3,
   "metadata": {},
   "outputs": [
    {
     "name": "stdout",
     "output_type": "stream",
     "text": [
      "30\n"
     ]
    }
   ],
   "source": [
    "a = 10 + 20\n",
    "\n",
    "print(a)"
   ]
  },
  {
   "cell_type": "markdown",
   "metadata": {},
   "source": [
    "## Operadores Ternários"
   ]
  },
  {
   "cell_type": "code",
   "execution_count": 8,
   "metadata": {},
   "outputs": [
    {
     "name": "stdout",
     "output_type": "stream",
     "text": [
      "20\n"
     ]
    }
   ],
   "source": [
    "## A recebe 20, se 10 for maior que 20, caso contrário, recebe 10.\n",
    "if 10 > 20:\n",
    "    a = 10\n",
    "else:\n",
    "    a = 20 \n",
    "\n",
    "print(a)\n"
   ]
  },
  {
   "cell_type": "code",
   "execution_count": 7,
   "metadata": {},
   "outputs": [
    {
     "name": "stdout",
     "output_type": "stream",
     "text": [
      "20\n"
     ]
    }
   ],
   "source": [
    "## A recebe 20, se 10 for maior que 20, caso contrário, recebe 10.\n",
    "a = 10 if 10 > 20 else 20\n",
    "\n",
    "print(a)"
   ]
  },
  {
   "cell_type": "markdown",
   "metadata": {},
   "source": [
    "## Operadores Aritméticos"
   ]
  },
  {
   "cell_type": "code",
   "execution_count": 21,
   "metadata": {},
   "outputs": [
    {
     "name": "stdout",
     "output_type": "stream",
     "text": [
      "tipo de 10:  <class 'int'> tipo de 20:  <class 'int'>  valor de a:  30 tipo de a:  <class 'int'>\n",
      "tipo de 10:  <class 'int'> tipo de 20.0:  <class 'float'>  valor de b:  30.0 tipo de b:  <class 'float'>\n",
      "tipo de '10':  <class 'str'> tipo de '20':  <class 'str'>  valor de c:  1020 tipo de c:  <class 'str'>\n"
     ]
    }
   ],
   "source": [
    "a = 10 + 20; # O resultado será do tipo inteiro com valor 30\n",
    "\n",
    "b = 10 + 20.0; # O resultado será do tipo float com valor 30.0\n",
    "\n",
    "c = \"10\" + \"20\"; # O resultado será do tipo string com valor \"1020\"\n",
    "\n",
    "print(\"tipo de 10: \", type(10),\"tipo de 20: \", type(20), \" valor de a: \", a, \"tipo de a: \", type(a))\n",
    "print(\"tipo de 10: \", type(10),\"tipo de 20.0: \", type(20.0), \" valor de b: \", b, \"tipo de b: \", type(b))\n",
    "print(\"tipo de '10': \", type(\"10\"),\"tipo de '20': \", type(\"20\"), \" valor de c: \", c, \"tipo de c: \", type(c))"
   ]
  },
  {
   "cell_type": "markdown",
   "metadata": {},
   "source": [
    "## Operadores Relacionais"
   ]
  },
  {
   "cell_type": "code",
   "execution_count": 23,
   "metadata": {},
   "outputs": [
    {
     "name": "stdout",
     "output_type": "stream",
     "text": [
      "valor de a:  False\n",
      "valor de b:  True\n",
      "valor de c:  False\n",
      "valor de d:  True\n",
      "valor de e:  False\n"
     ]
    }
   ],
   "source": [
    "a = 10 > 20; # O resultado será false\n",
    "\n",
    "b = 10 < 20; # O resultado será true\n",
    "\n",
    "c = 10 == 20; # O resultado será false\n",
    "\n",
    "d = 10 != 20; # O resultado será true\n",
    "\n",
    "e = \"10\" == \"20\"; # O resultado será false\n",
    "\n",
    "\n",
    "print(\"valor de a: \", a)\n",
    "print(\"valor de b: \", b)\n",
    "print(\"valor de c: \", c)\n",
    "print(\"valor de d: \", d)\n",
    "print(\"valor de e: \", e)"
   ]
  },
  {
   "cell_type": "markdown",
   "metadata": {},
   "source": [
    "## Operadores Relacionais com strings"
   ]
  },
  {
   "cell_type": "code",
   "execution_count": 27,
   "metadata": {},
   "outputs": [
    {
     "name": "stdout",
     "output_type": "stream",
     "text": [
      "valor de a:  True\n",
      "valor de b:  False\n",
      "valor de c:  True\n",
      "valor de d:  True\n",
      "valor de e:  False\n",
      "valor de f:  True\n",
      "valor de g:  True\n"
     ]
    }
   ],
   "source": [
    "a = \"abc\" < \"def\" # O resultado será true\n",
    "\n",
    "b = \"abc\" < \"ab\" # O resultado será false\n",
    "\n",
    "c = \"abc\" < \"abd\" # O resultado será true\n",
    "\n",
    "d = \"algoritmo\" > \"ALGORITMO\" # O resultado será true\n",
    "\n",
    "e = \"algoritmo\" == \"ALGORITMO\" # O resultado será true\n",
    "\n",
    "f = \"ABC\" < \"EFG\" # O resultado será true\n",
    "\n",
    "g = \"Pascal\" < \"Pascal competir\" # O resultado será true\n",
    "\n",
    "print(\"valor de a: \", a)\n",
    "print(\"valor de b: \", b)\n",
    "print(\"valor de c: \", c)\n",
    "print(\"valor de d: \", d)\n",
    "print(\"valor de e: \", e)\n",
    "print(\"valor de f: \", f)\n",
    "print(\"valor de g: \", g)"
   ]
  },
  {
   "cell_type": "markdown",
   "metadata": {},
   "source": [
    "Comparação de números reais (floats)"
   ]
  },
  {
   "cell_type": "code",
   "execution_count": 4,
   "metadata": {},
   "outputs": [
    {
     "name": "stdout",
     "output_type": "stream",
     "text": [
      "valor de a:  1.0\n",
      "valor de b:  1\n",
      "valor de c:  True\n",
      "valor de e:  0.3333333333333333\n",
      "valor de a:  1.0 tipo de a:  <class 'float'>\n",
      "valor de b:  1 tipo de b:  <class 'int'>\n"
     ]
    }
   ],
   "source": [
    "a = 1.0/3.0 + 1.0/3.0 + 1.0/3.0;\n",
    "\n",
    "b = 1;\n",
    "\n",
    "c = a == b; # O resultado será false\n",
    "\n",
    "e = 1.0/3.0 \n",
    "\n",
    "print(\"valor de a: \", a)\n",
    "print(\"valor de b: \", b)\n",
    "print(\"valor de c: \", c)\n",
    "print(\"valor de e: \", e)\n",
    "\n",
    "print(\"valor de a: \", a, \"tipo de a: \", type(a))\n",
    "print(\"valor de b: \", b, \"tipo de b: \", type(b))"
   ]
  },
  {
   "cell_type": "markdown",
   "metadata": {},
   "source": [
    "## Operadores Lógicos"
   ]
  },
  {
   "cell_type": "code",
   "execution_count": 14,
   "metadata": {},
   "outputs": [
    {
     "name": "stdout",
     "output_type": "stream",
     "text": [
      "valor de a:  False\n",
      "valor de b:  True\n",
      "valor de c:  True\n"
     ]
    }
   ],
   "source": [
    "a = 10 > 20 and 20 > 10; # O resultado será false\n",
    "\n",
    "b = 10 > 20 or 20 > 10; # O resultado será true\n",
    "\n",
    "c = not 10 > 20; # O resultado será true\n",
    "\n",
    "\n",
    "print(\"valor de a: \", a)\n",
    "print(\"valor de b: \", b)\n",
    "print(\"valor de c: \", c)"
   ]
  },
  {
   "cell_type": "markdown",
   "metadata": {},
   "source": [
    "## Operador de concatenação"
   ]
  },
  {
   "cell_type": "code",
   "execution_count": 19,
   "metadata": {},
   "outputs": [
    {
     "name": "stdout",
     "output_type": "stream",
     "text": [
      "valor de a:  HelloWorld\n",
      "valor de b:  Hello World\n",
      "valor de c:  Hello10\n",
      "valor de d:  10Hello\n"
     ]
    }
   ],
   "source": [
    "a = \"Hello\" + \"World\"; # O resultado será \"HelloWorld\"\n",
    "\n",
    "b = \"Hello\" + \" \" + \"World\"; # O resultado será \"Hello World\"\n",
    "\n",
    "c = \"Hello\" + \"10\"; # O resultado será \"Hello10\"\n",
    "\n",
    "d = \"10\" + \"Hello\"; # O resultado será \"10Hello\"\n",
    "\n",
    "print(\"valor de a: \", a)\n",
    "print(\"valor de b: \", b)\n",
    "print(\"valor de c: \", c)\n",
    "print(\"valor de d: \", d)\n"
   ]
  },
  {
   "cell_type": "markdown",
   "metadata": {},
   "source": [
    "## Operador de atribuição"
   ]
  },
  {
   "cell_type": "code",
   "execution_count": 20,
   "metadata": {},
   "outputs": [
    {
     "name": "stdout",
     "output_type": "stream",
     "text": [
      "valor de a:  10\n",
      "valor de b:  20\n",
      "valor de c:  30\n"
     ]
    }
   ],
   "source": [
    "a = 10; # A variável a recebe o valor 10\n",
    "\n",
    "b = 20; # A variável b recebe o valor 20\n",
    "\n",
    "c = a + b; # A variável c recebe o valor 30\n",
    "\n",
    "print(\"valor de a: \", a)\n",
    "print(\"valor de b: \", b)\n",
    "print(\"valor de c: \", c)"
   ]
  },
  {
   "cell_type": "markdown",
   "metadata": {},
   "source": [
    "## Exemplo de uso d ordem de precedência"
   ]
  },
  {
   "cell_type": "code",
   "execution_count": 5,
   "metadata": {},
   "outputs": [
    {
     "data": {
      "text/plain": [
       "30.0"
      ]
     },
     "execution_count": 5,
     "metadata": {},
     "output_type": "execute_result"
    }
   ],
   "source": [
    "\n",
    "2+10/2+5*3+2**3"
   ]
  },
  {
   "cell_type": "markdown",
   "metadata": {},
   "source": [
    "## Exemplo de uso de parênteses"
   ]
  },
  {
   "cell_type": "code",
   "execution_count": 4,
   "metadata": {},
   "outputs": [
    {
     "data": {
      "text/plain": [
       "13.142857142857142"
      ]
     },
     "execution_count": 4,
     "metadata": {},
     "output_type": "execute_result"
    }
   ],
   "source": [
    "(2+10)/(2+5)*3+2**3"
   ]
  }
 ],
 "metadata": {
  "kernelspec": {
   "display_name": "Python 3",
   "language": "python",
   "name": "python3"
  },
  "language_info": {
   "codemirror_mode": {
    "name": "ipython",
    "version": 3
   },
   "file_extension": ".py",
   "mimetype": "text/x-python",
   "name": "python",
   "nbconvert_exporter": "python",
   "pygments_lexer": "ipython3",
   "version": "3.11.5"
  },
  "orig_nbformat": 4
 },
 "nbformat": 4,
 "nbformat_minor": 2
}
