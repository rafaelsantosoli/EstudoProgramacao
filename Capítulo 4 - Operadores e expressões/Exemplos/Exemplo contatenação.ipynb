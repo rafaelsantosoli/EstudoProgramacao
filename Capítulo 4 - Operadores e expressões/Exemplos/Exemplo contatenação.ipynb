{
 "cells": [
  {
   "cell_type": "markdown",
   "metadata": {},
   "source": [
    "# Configurando conexão com o banco de dados SQLServer com pyodbc"
   ]
  },
  {
   "cell_type": "markdown",
   "metadata": {},
   "source": [
    "## Instalando o pyodbc\n",
    "\n",
    "Execute o comando abaixo para instalar o pyodbc:\n",
    "\n",
    "```bash\n",
    "pip install pyodbc\n",
    "```\n",
    "ou\n",
    "\n",
    "```bash\n",
    "pip3 install pyodbc\n",
    "```\n",
    "\n",
    "- pip é o gerenciador de pacotes do Python 2.\n",
    "- pip3 é o gerenciador de pacotes do Python 3."
   ]
  },
  {
   "cell_type": "code",
   "execution_count": 1,
   "metadata": {},
   "outputs": [],
   "source": [
    "# Importar o pacote pyodbc\n",
    "\n",
    "import pyodbc"
   ]
  },
  {
   "cell_type": "code",
   "execution_count": 2,
   "metadata": {},
   "outputs": [],
   "source": [
    "# Crie variáveis para suas credenciais de conexão.\n",
    "\n",
    "SERVER = 'RAFAEL'\n",
    "DATABASE = 'Protheus'\n",
    "USERNAME = 'sa'\n",
    "PASSWORD = 'sa'"
   ]
  },
  {
   "cell_type": "code",
   "execution_count": 3,
   "metadata": {},
   "outputs": [],
   "source": [
    "# Crie uma variável de cadeia de conexão usando interpolação de cadeia de caracteres.\n",
    "\n",
    "connectionString = f'DRIVER={{ODBC Driver 18 for SQL Server}};SERVER={SERVER};DATABASE={DATABASE};UID={USERNAME};PWD={PASSWORD};Encrypt=no'\n",
    "# connectionString = f'DRIVER={{SQL Server}};SERVER={SERVER};DATABASE={DATABASE};UID={USERNAME};PWD={PASSWORD}'"
   ]
  },
  {
   "cell_type": "code",
   "execution_count": 4,
   "metadata": {},
   "outputs": [],
   "source": [
    "# Use a função pyodbc.connect para conectar a um banco de dados SQL.\n",
    "\n",
    "conn = pyodbc.connect(connectionString) "
   ]
  },
  {
   "cell_type": "code",
   "execution_count": 5,
   "metadata": {},
   "outputs": [],
   "source": [
    "# Criando cursor\n",
    "# O cursor permite que você execute comandos SQL no banco de dados.\n",
    "\n",
    "cursor = conn.cursor()"
   ]
  },
  {
   "cell_type": "markdown",
   "metadata": {},
   "source": [
    "## Executar consultas"
   ]
  },
  {
   "cell_type": "markdown",
   "metadata": {},
   "source": [
    "Criando consulta SQL"
   ]
  },
  {
   "cell_type": "code",
   "execution_count": 6,
   "metadata": {},
   "outputs": [
    {
     "name": "stdout",
     "output_type": "stream",
     "text": [
      "\n",
      "\n",
      "SELECT \n",
      "A1_COD,\n",
      "A1_LOJA,\n",
      "A1_PESSOA,\n",
      "A1_NOME,\n",
      "A1_NREDUZ,\n",
      "A1_END,\n",
      "A1_TIPO,\n",
      "A1_EST,\n",
      "A1_MUN,\n",
      "A1_BAIRRO,\n",
      "A1_CGC\n",
      "\n",
      "FROM dbo.SA1990\n",
      "\n",
      "WHERE A1_EST = 'SP' AND A1_COD = '000001' AND A1_LOJA = '01' AND A1_TIPO = 'F'\n"
     ]
    }
   ],
   "source": [
    "Estado = 'SP'\n",
    "Codigo = '000001'\n",
    "Loja = '01'\n",
    "Tipo = 'F'\n",
    "\n",
    "SQL_QUERY = \"\"\"\n",
    "\n",
    "SELECT \n",
    "A1_COD,\n",
    "A1_LOJA,\n",
    "A1_PESSOA,\n",
    "A1_NOME,\n",
    "A1_NREDUZ,\n",
    "A1_END,\n",
    "A1_TIPO,\n",
    "A1_EST,\n",
    "A1_MUN,\n",
    "A1_BAIRRO,\n",
    "A1_CGC\n",
    "\n",
    "FROM dbo.SA1990\n",
    "\n",
    "WHERE A1_EST = \"\"\" + \"'\" + Estado + \"'\" + \" AND A1_COD = \" + \"'\" + Codigo + \"'\" + \" AND A1_LOJA = \" + \"'\" + Loja + \"'\" + \" AND A1_TIPO = \" + \"'\" + Tipo + \"'\" \n",
    "\n",
    "print(SQL_QUERY)\n",
    "\n"
   ]
  },
  {
   "cell_type": "markdown",
   "metadata": {},
   "source": [
    "Executando consultas no SQL E imprimindo os dados"
   ]
  },
  {
   "cell_type": "code",
   "execution_count": 7,
   "metadata": {},
   "outputs": [
    {
     "name": "stdout",
     "output_type": "stream",
     "text": [
      "['A1_COD', 'A1_LOJA', 'A1_PESSOA', 'A1_NOME', 'A1_NREDUZ', 'A1_END', 'A1_TIPO', 'A1_EST', 'A1_MUN', 'A1_BAIRRO', 'A1_CGC']\n",
      "('000001', '01', ' ', 'CLIENTE PADRAO                          ', 'CLIENTE PADRAO      ', 'ENDERECO, 123', 'F', 'SP', 'Sao Paulo                                                   ', '                                        ', '              ')\n"
     ]
    }
   ],
   "source": [
    "# Exemplo de imprimir dados de uma tabela com fetchall()\n",
    "\n",
    "#Para imprimir os nomes das colunas, use o atributo description.\n",
    "\n",
    "cursor.execute(SQL_QUERY)\n",
    "columns = [column[0] for column in cursor.description]\n",
    "print(columns)\n",
    "\n",
    "rows = cursor.fetchall()\n",
    "\n",
    "for row in rows:\n",
    "    print(row)"
   ]
  },
  {
   "cell_type": "markdown",
   "metadata": {},
   "source": [
    "## Fechando a conexão\n",
    "É uma boa prática fechar a conexão quando terminar de usá-la."
   ]
  },
  {
   "cell_type": "code",
   "execution_count": null,
   "metadata": {},
   "outputs": [],
   "source": [
    "conn.close()"
   ]
  }
 ],
 "metadata": {
  "kernelspec": {
   "display_name": "Python 3",
   "language": "python",
   "name": "python3"
  },
  "language_info": {
   "codemirror_mode": {
    "name": "ipython",
    "version": 3
   },
   "file_extension": ".py",
   "mimetype": "text/x-python",
   "name": "python",
   "nbconvert_exporter": "python",
   "pygments_lexer": "ipython3",
   "version": "3.11.5"
  }
 },
 "nbformat": 4,
 "nbformat_minor": 2
}
